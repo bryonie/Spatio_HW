{
  "nbformat": 4,
  "nbformat_minor": 0,
  "metadata": {
    "colab": {
      "name": "Bryonie-Spatio-HW.ipynb",
      "provenance": [],
      "authorship_tag": "ABX9TyOg2ORbGcpQNekWWM4yzneg",
      "include_colab_link": true
    },
    "kernelspec": {
      "name": "python3",
      "display_name": "Python 3"
    }
  },
  "cells": [
    {
      "cell_type": "markdown",
      "metadata": {
        "id": "view-in-github",
        "colab_type": "text"
      },
      "source": [
        "<a href=\"https://colab.research.google.com/github/bryonie/Spatio_HW/blob/master/Bryonie_Spatio_HW.ipynb\" target=\"_parent\"><img src=\"https://colab.research.google.com/assets/colab-badge.svg\" alt=\"Open In Colab\"/></a>"
      ]
    },
    {
      "cell_type": "markdown",
      "metadata": {
        "id": "ohllX2xIfpg0",
        "colab_type": "text"
      },
      "source": [
        "Setup Google Drive for pulling in files\n"
      ]
    },
    {
      "cell_type": "code",
      "metadata": {
        "id": "BHu5K4pdffke",
        "colab_type": "code",
        "colab": {}
      },
      "source": [
        "from pydrive.auth import GoogleAuth\n",
        "from pydrive.drive import GoogleDrive\n",
        "from google.colab import auth\n",
        "from oauth2client.client import GoogleCredentials\n",
        "auth.authenticate_user()\n",
        "gauth = GoogleAuth()\n",
        "gauth.credentials = GoogleCredentials.get_application_default()\n",
        "drive = GoogleDrive(gauth)\n",
        "downloaded = drive.CreateFile({'id':\"18DPGKwPOdUQMn2xsyZLI1B1VNGA0ALG1\"})   \n",
        "downloaded.GetContentFile('2046729_spatial.csv')\n",
        "downloaded = drive.CreateFile({'id':\"1WoYkI7EjCB-4b9_HmufNwyNbhjx_n7CO\"})   \n",
        "downloaded.GetContentFile('2046729_traj.csv') \n",
        "downloaded = drive.CreateFile({'id':\"1IPs0suoPwl4HZZ8dnsNEA0ofyR5NTDcw\"})   \n",
        "downloaded.GetContentFile('CA_Counties_TIGER2016.shp') \n",
        "downloaded = drive.CreateFile({'id':\"1dg5wM-rqqPAGWHNJlJiBFPdvUYf7a-C5\"})   \n",
        "downloaded.GetContentFile('CA_Counties_TIGER2016.dbf')\n",
        "downloaded = drive.CreateFile({'id':\"1eu6_XgzimKqO5EqqfrparchwclYpQVB5\"})   \n",
        "downloaded.GetContentFile('CA_Counties_TIGER2016.shx')\n",
        "downloaded = drive.CreateFile({'id':\"1f7qYlYRzmX1paCXT-19LPBxs0owydT8H\"})   \n",
        "downloaded.GetContentFile('CA_Counties_TIGER2016.sbx')\n",
        "downloaded = drive.CreateFile({'id':\"1P1sm-r0c2GSTpyNp3dSKQ1Cg5cIbh1FN\"})   \n",
        "downloaded.GetContentFile('CA_Counties_TIGER2016.sbn')"
      ],
      "execution_count": 0,
      "outputs": []
    },
    {
      "cell_type": "markdown",
      "metadata": {
        "id": "Uw3uovNIfyMd",
        "colab_type": "text"
      },
      "source": [
        "Imports and reading files"
      ]
    },
    {
      "cell_type": "code",
      "metadata": {
        "id": "2xpDuWQZXFwt",
        "colab_type": "code",
        "colab": {
          "base_uri": "https://localhost:8080/",
          "height": 437
        },
        "outputId": "76cf5b2f-62fd-472c-baaf-15e537582914"
      },
      "source": [
        "pip install pyshp\n",
        "pip install geopandas"
      ],
      "execution_count": 14,
      "outputs": [
        {
          "output_type": "stream",
          "text": [
            "Collecting geopandas\n",
            "\u001b[?25l  Downloading https://files.pythonhosted.org/packages/83/c5/3cf9cdc39a6f2552922f79915f36b45a95b71fd343cfc51170a5b6ddb6e8/geopandas-0.7.0-py2.py3-none-any.whl (928kB)\n",
            "\u001b[K     |████████████████████████████████| 931kB 4.9MB/s \n",
            "\u001b[?25hCollecting fiona\n",
            "\u001b[?25l  Downloading https://files.pythonhosted.org/packages/ec/20/4e63bc5c6e62df889297b382c3ccd4a7a488b00946aaaf81a118158c6f09/Fiona-1.8.13.post1-cp36-cp36m-manylinux1_x86_64.whl (14.7MB)\n",
            "\u001b[K     |████████████████████████████████| 14.7MB 53.0MB/s \n",
            "\u001b[?25hCollecting pyproj>=2.2.0\n",
            "\u001b[?25l  Downloading https://files.pythonhosted.org/packages/ce/37/705ee471f71130d4ceee41bbcb06f3b52175cb89273cbb5755ed5e6374e0/pyproj-2.6.0-cp36-cp36m-manylinux2010_x86_64.whl (10.4MB)\n",
            "\u001b[K     |████████████████████████████████| 10.4MB 18.8MB/s \n",
            "\u001b[?25hRequirement already satisfied: shapely in /usr/local/lib/python3.6/dist-packages (from geopandas) (1.7.0)\n",
            "Requirement already satisfied: pandas>=0.23.0 in /usr/local/lib/python3.6/dist-packages (from geopandas) (0.25.3)\n",
            "Collecting cligj>=0.5\n",
            "  Downloading https://files.pythonhosted.org/packages/e4/be/30a58b4b0733850280d01f8bd132591b4668ed5c7046761098d665ac2174/cligj-0.5.0-py3-none-any.whl\n",
            "Requirement already satisfied: click<8,>=4.0 in /usr/local/lib/python3.6/dist-packages (from fiona->geopandas) (7.1.1)\n",
            "Collecting munch\n",
            "  Downloading https://files.pythonhosted.org/packages/cc/ab/85d8da5c9a45e072301beb37ad7f833cd344e04c817d97e0cc75681d248f/munch-2.5.0-py2.py3-none-any.whl\n",
            "Requirement already satisfied: six>=1.7 in /usr/local/lib/python3.6/dist-packages (from fiona->geopandas) (1.12.0)\n",
            "Requirement already satisfied: attrs>=17 in /usr/local/lib/python3.6/dist-packages (from fiona->geopandas) (19.3.0)\n",
            "Collecting click-plugins>=1.0\n",
            "  Downloading https://files.pythonhosted.org/packages/e9/da/824b92d9942f4e472702488857914bdd50f73021efea15b4cad9aca8ecef/click_plugins-1.1.1-py2.py3-none-any.whl\n",
            "Requirement already satisfied: python-dateutil>=2.6.1 in /usr/local/lib/python3.6/dist-packages (from pandas>=0.23.0->geopandas) (2.8.1)\n",
            "Requirement already satisfied: numpy>=1.13.3 in /usr/local/lib/python3.6/dist-packages (from pandas>=0.23.0->geopandas) (1.18.2)\n",
            "Requirement already satisfied: pytz>=2017.2 in /usr/local/lib/python3.6/dist-packages (from pandas>=0.23.0->geopandas) (2018.9)\n",
            "Installing collected packages: cligj, munch, click-plugins, fiona, pyproj, geopandas\n",
            "Successfully installed click-plugins-1.1.1 cligj-0.5.0 fiona-1.8.13.post1 geopandas-0.7.0 munch-2.5.0 pyproj-2.6.0\n"
          ],
          "name": "stdout"
        }
      ]
    },
    {
      "cell_type": "code",
      "metadata": {
        "id": "1TCofvTVf3xx",
        "colab_type": "code",
        "outputId": "62d4eb56-3ccf-4449-cc57-d471355fa577",
        "colab": {
          "base_uri": "https://localhost:8080/",
          "height": 195
        }
      },
      "source": [
        "import numpy as np\n",
        "import pandas as pd\n",
        "from matplotlib.dates import date2num, num2date\n",
        "import datetime as datetime\n",
        "import matplotlib .pyplot as plt\n",
        "import shapefile as shp\n",
        "import geopandas as gpd\n",
        "from mpl_toolkits import mplot3d\n",
        "from pandas.plotting import autocorrelation_plot\n",
        "from statsmodels.tsa.stattools import acf\n",
        "from statsmodels.tsa.seasonal import seasonal_decompose\n",
        "from math import sqrt\n",
        "from statsmodels.tsa.ar_model import AR\n",
        "from statsmodels.graphics.tsaplots import plot_acf\n",
        "from scipy.spatial.distance import pdist, squareform\n",
        "import statsmodels.api as sm\n",
        "from sklearn.metrics import mean_squared_error\n",
        "\n",
        "spatial_file = '2046729_spatial.csv'\n",
        "county_shape = 'CA_Counties_TIGER2016.shp'\n",
        "county_dbf = 'CA_Counties_TIGER2016.dbf'\n",
        "county_shx = 'CA_Counties_TIGER2016.shx'\n",
        "county_sbx = 'CA_Counties_TIGER2016.sbx'\n",
        "county_sbn = 'CA_Counties_TIGER2016.sbn'\n",
        "\n",
        "spatial_data = pd.read_csv(spatial_file)\n",
        "\n",
        "spatial_data.head()"
      ],
      "execution_count": 18,
      "outputs": [
        {
          "output_type": "execute_result",
          "data": {
            "text/html": [
              "<div>\n",
              "<style scoped>\n",
              "    .dataframe tbody tr th:only-of-type {\n",
              "        vertical-align: middle;\n",
              "    }\n",
              "\n",
              "    .dataframe tbody tr th {\n",
              "        vertical-align: top;\n",
              "    }\n",
              "\n",
              "    .dataframe thead th {\n",
              "        text-align: right;\n",
              "    }\n",
              "</style>\n",
              "<table border=\"1\" class=\"dataframe\">\n",
              "  <thead>\n",
              "    <tr style=\"text-align: right;\">\n",
              "      <th></th>\n",
              "      <th>Unnamed: 0</th>\n",
              "      <th>Unnamed: 0.1</th>\n",
              "      <th>name</th>\n",
              "      <th>capital</th>\n",
              "      <th>population</th>\n",
              "      <th>latitude</th>\n",
              "      <th>longitude</th>\n",
              "      <th>Virus X</th>\n",
              "    </tr>\n",
              "  </thead>\n",
              "  <tbody>\n",
              "    <tr>\n",
              "      <th>0</th>\n",
              "      <td>0</td>\n",
              "      <td>0</td>\n",
              "      <td>Sierra</td>\n",
              "      <td>Downieville</td>\n",
              "      <td>3380</td>\n",
              "      <td>36.985898</td>\n",
              "      <td>-119.232078</td>\n",
              "      <td>5</td>\n",
              "    </tr>\n",
              "    <tr>\n",
              "      <th>1</th>\n",
              "      <td>1</td>\n",
              "      <td>1</td>\n",
              "      <td>Sacramento</td>\n",
              "      <td>Sacramento</td>\n",
              "      <td>1424415</td>\n",
              "      <td>38.573659</td>\n",
              "      <td>-121.487147</td>\n",
              "      <td>506</td>\n",
              "    </tr>\n",
              "    <tr>\n",
              "      <th>2</th>\n",
              "      <td>2</td>\n",
              "      <td>2</td>\n",
              "      <td>Santa Barbara</td>\n",
              "      <td>Santa Barbara</td>\n",
              "      <td>428655</td>\n",
              "      <td>34.423403</td>\n",
              "      <td>-119.704416</td>\n",
              "      <td>652</td>\n",
              "    </tr>\n",
              "    <tr>\n",
              "      <th>3</th>\n",
              "      <td>3</td>\n",
              "      <td>3</td>\n",
              "      <td>Calaveras</td>\n",
              "      <td>San Andreas</td>\n",
              "      <td>46127</td>\n",
              "      <td>38.231085</td>\n",
              "      <td>-120.619990</td>\n",
              "      <td>1</td>\n",
              "    </tr>\n",
              "    <tr>\n",
              "      <th>4</th>\n",
              "      <td>4</td>\n",
              "      <td>4</td>\n",
              "      <td>Ventura</td>\n",
              "      <td>Ventura</td>\n",
              "      <td>831587</td>\n",
              "      <td>34.265900</td>\n",
              "      <td>-119.258366</td>\n",
              "      <td>28</td>\n",
              "    </tr>\n",
              "  </tbody>\n",
              "</table>\n",
              "</div>"
            ],
            "text/plain": [
              "   Unnamed: 0  Unnamed: 0.1           name  ...   latitude   longitude  Virus X\n",
              "0           0             0         Sierra  ...  36.985898 -119.232078        5\n",
              "1           1             1     Sacramento  ...  38.573659 -121.487147      506\n",
              "2           2             2  Santa Barbara  ...  34.423403 -119.704416      652\n",
              "3           3             3      Calaveras  ...  38.231085 -120.619990        1\n",
              "4           4             4        Ventura  ...  34.265900 -119.258366       28\n",
              "\n",
              "[5 rows x 8 columns]"
            ]
          },
          "metadata": {
            "tags": []
          },
          "execution_count": 18
        }
      ]
    },
    {
      "cell_type": "markdown",
      "metadata": {
        "id": "LUeZ7Twrf4T-",
        "colab_type": "text"
      },
      "source": [
        "Normalizing Data (with comments)"
      ]
    },
    {
      "cell_type": "code",
      "metadata": {
        "id": "6LzoDzOTf8Tc",
        "colab_type": "code",
        "outputId": "fbf2e8ce-09de-4ef1-e38e-d8e7a32b75b2",
        "colab": {
          "base_uri": "https://localhost:8080/",
          "height": 301
        }
      },
      "source": [
        "normalized_dict = {\n",
        "    \"\": ['count', 'mean', 'std', 'min', '25%', '50%', '75%', 'max'],\n",
        "    \"Unnamed: 0\": [],\n",
        "    \"Unnamed: 0.1\": [],\n",
        "    \"population\": [],\n",
        "    \"latitude\": [],\n",
        "    \"longitude\": [],\n",
        "    \"Virus X\": []\n",
        "}\n",
        "\n",
        "keys = list(normalized_dict.keys())\n",
        "print(keys)\n",
        "\n",
        "for key in keys:\n",
        "  if(key != ''):\n",
        "    normalized_dict[key].append(spatial_data[key].count())\n",
        "    normalized_dict[key].append(spatial_data[key].mean())\n",
        "    normalized_dict[key].append(spatial_data[key].std())\n",
        "    normalized_dict[key].append(spatial_data[key].min())\n",
        "    normalized_dict[key].append('25')\n",
        "    normalized_dict[key].append('50')\n",
        "    normalized_dict[key].append('75')\n",
        "    normalized_dict[key].append(spatial_data[key].max())\n",
        "\n",
        "# normalized_data = pd.DataFrame(normalized_dict)\n",
        "\n",
        "normalized_data = spatial_data.describe()\n",
        "\n",
        "normalized_data\n"
      ],
      "execution_count": 5,
      "outputs": [
        {
          "output_type": "stream",
          "text": [
            "['', 'Unnamed: 0', 'Unnamed: 0.1', 'population', 'latitude', 'longitude', 'Virus X']\n"
          ],
          "name": "stdout"
        },
        {
          "output_type": "execute_result",
          "data": {
            "text/html": [
              "<div>\n",
              "<style scoped>\n",
              "    .dataframe tbody tr th:only-of-type {\n",
              "        vertical-align: middle;\n",
              "    }\n",
              "\n",
              "    .dataframe tbody tr th {\n",
              "        vertical-align: top;\n",
              "    }\n",
              "\n",
              "    .dataframe thead th {\n",
              "        text-align: right;\n",
              "    }\n",
              "</style>\n",
              "<table border=\"1\" class=\"dataframe\">\n",
              "  <thead>\n",
              "    <tr style=\"text-align: right;\">\n",
              "      <th></th>\n",
              "      <th>Unnamed: 0</th>\n",
              "      <th>Unnamed: 0.1</th>\n",
              "      <th>population</th>\n",
              "      <th>latitude</th>\n",
              "      <th>longitude</th>\n",
              "      <th>Virus X</th>\n",
              "    </tr>\n",
              "  </thead>\n",
              "  <tbody>\n",
              "    <tr>\n",
              "      <th>count</th>\n",
              "      <td>58.000000</td>\n",
              "      <td>58.000000</td>\n",
              "      <td>5.800000e+01</td>\n",
              "      <td>58.000000</td>\n",
              "      <td>58.000000</td>\n",
              "      <td>58.000000</td>\n",
              "    </tr>\n",
              "    <tr>\n",
              "      <th>mean</th>\n",
              "      <td>28.500000</td>\n",
              "      <td>28.500000</td>\n",
              "      <td>6.072262e+05</td>\n",
              "      <td>37.612156</td>\n",
              "      <td>-120.734224</td>\n",
              "      <td>406.224138</td>\n",
              "    </tr>\n",
              "    <tr>\n",
              "      <th>std</th>\n",
              "      <td>16.886879</td>\n",
              "      <td>16.886879</td>\n",
              "      <td>1.446943e+06</td>\n",
              "      <td>2.258869</td>\n",
              "      <td>1.886696</td>\n",
              "      <td>1391.077457</td>\n",
              "    </tr>\n",
              "    <tr>\n",
              "      <th>min</th>\n",
              "      <td>0.000000</td>\n",
              "      <td>0.000000</td>\n",
              "      <td>1.222000e+03</td>\n",
              "      <td>32.718834</td>\n",
              "      <td>-123.965971</td>\n",
              "      <td>1.000000</td>\n",
              "    </tr>\n",
              "    <tr>\n",
              "      <th>25%</th>\n",
              "      <td>14.250000</td>\n",
              "      <td>14.250000</td>\n",
              "      <td>4.879500e+04</td>\n",
              "      <td>36.530736</td>\n",
              "      <td>-122.102211</td>\n",
              "      <td>5.250000</td>\n",
              "    </tr>\n",
              "    <tr>\n",
              "      <th>50%</th>\n",
              "      <td>28.500000</td>\n",
              "      <td>28.500000</td>\n",
              "      <td>1.809790e+05</td>\n",
              "      <td>37.814835</td>\n",
              "      <td>-120.905185</td>\n",
              "      <td>29.500000</td>\n",
              "    </tr>\n",
              "    <tr>\n",
              "      <th>75%</th>\n",
              "      <td>42.750000</td>\n",
              "      <td>42.750000</td>\n",
              "      <td>5.155448e+05</td>\n",
              "      <td>39.150608</td>\n",
              "      <td>-119.781361</td>\n",
              "      <td>171.750000</td>\n",
              "    </tr>\n",
              "    <tr>\n",
              "      <th>max</th>\n",
              "      <td>57.000000</td>\n",
              "      <td>57.000000</td>\n",
              "      <td>1.036385e+07</td>\n",
              "      <td>41.774326</td>\n",
              "      <td>-115.569962</td>\n",
              "      <td>9479.000000</td>\n",
              "    </tr>\n",
              "  </tbody>\n",
              "</table>\n",
              "</div>"
            ],
            "text/plain": [
              "       Unnamed: 0  Unnamed: 0.1  ...   longitude      Virus X\n",
              "count   58.000000     58.000000  ...   58.000000    58.000000\n",
              "mean    28.500000     28.500000  ... -120.734224   406.224138\n",
              "std     16.886879     16.886879  ...    1.886696  1391.077457\n",
              "min      0.000000      0.000000  ... -123.965971     1.000000\n",
              "25%     14.250000     14.250000  ... -122.102211     5.250000\n",
              "50%     28.500000     28.500000  ... -120.905185    29.500000\n",
              "75%     42.750000     42.750000  ... -119.781361   171.750000\n",
              "max     57.000000     57.000000  ... -115.569962  9479.000000\n",
              "\n",
              "[8 rows x 6 columns]"
            ]
          },
          "metadata": {
            "tags": []
          },
          "execution_count": 5
        }
      ]
    },
    {
      "cell_type": "markdown",
      "metadata": {
        "id": "GB9N_6BDf8yj",
        "colab_type": "text"
      },
      "source": [
        "Plot time!"
      ]
    },
    {
      "cell_type": "markdown",
      "metadata": {
        "id": "e3Xcq153VIPu",
        "colab_type": "text"
      },
      "source": [
        "Question 2.1"
      ]
    },
    {
      "cell_type": "code",
      "metadata": {
        "id": "UssJgEIBf9_m",
        "colab_type": "code",
        "outputId": "f598e3e8-4173-4309-b3fc-4d8d38da478b",
        "colab": {
          "base_uri": "https://localhost:8080/",
          "height": 295
        }
      },
      "source": [
        "# Question 2.1\n",
        "plt.scatter(\n",
        "    spatial_data[\"latitude\"],\n",
        "    spatial_data[\"longitude\"],\n",
        "    c=spatial_data[\"Virus X\"]\n",
        ")\n",
        "plt.title('Latitube x Longitude (Virus X)')\n",
        "plt.xlabel('Latitude')\n",
        "plt.ylabel('Longitude')\n",
        "plt.show()"
      ],
      "execution_count": 5,
      "outputs": [
        {
          "output_type": "display_data",
          "data": {
            "image/png": "[encoded data removed]",
            "text/plain": [
              "<Figure size 432x288 with 1 Axes>"
            ]
          },
          "metadata": {
            "tags": []
          }
        }
      ]
    },
    {
      "cell_type": "markdown",
      "metadata": {
        "id": "7O0oeGNnVLM1",
        "colab_type": "text"
      },
      "source": [
        "Question 2.2"
      ]
    },
    {
      "cell_type": "code",
      "metadata": {
        "id": "0WOamPqEVM9o",
        "colab_type": "code",
        "outputId": "6aebe2f3-faee-4cc7-99d3-dea806a2bd90",
        "colab": {
          "base_uri": "https://localhost:8080/",
          "height": 853
        }
      },
      "source": [
        "fig, axs = plt.subplots(1, 2, sharey=True, tight_layout=True)\n",
        "\n",
        "def Normalize(column):\n",
        "    upper = column.max()\n",
        "    lower = column.min()\n",
        "    y = (column - lower)/(upper-lower)\n",
        "    return y\n",
        "\n",
        "latitude = Normalize(spatial_data[\"latitude\"])\n",
        "longitude = Normalize(spatial_data[\"longitude\"])\n",
        "\n",
        "# fig.suptitle(\"Latitude vs Longitude\")\n",
        "axs[0].set_title(\"Latitude Normal Distribution\")\n",
        "axs[0].hist(latitude, label=\"Latitude\")\n",
        "axs[1].set_title(\"Longitude Normal Distribution\")\n",
        "axs[1].hist(longitude, label=\"Longitude\")\n",
        "\n",
        "\n",
        "sm.qqplot(latitude,fit=True,line='45')\n",
        "plt.title(\"Latitude Normal Distribution\")\n",
        "sm.qqplot(longitude,fit=True,line='45')\n",
        "plt.title(\"Longitude Normal Distribution\")\n",
        "plt.show()\n",
        "\n"
      ],
      "execution_count": 185,
      "outputs": [
        {
          "output_type": "display_data",
          "data": {
            "image/png": "[encoded data removed]",
            "text/plain": [
              "<Figure size 432x288 with 2 Axes>"
            ]
          },
          "metadata": {
            "tags": []
          }
        },
        {
          "output_type": "display_data",
          "data": {
            "image/png": "[encoded data removed]",
            "text/plain": [
              "<Figure size 432x288 with 1 Axes>"
            ]
          },
          "metadata": {
            "tags": []
          }
        },
        {
          "output_type": "display_data",
          "data": {
            "image/png": "[encoded data removed]",
            "text/plain": [
              "<Figure size 432x288 with 1 Axes>"
            ]
          },
          "metadata": {
            "tags": []
          }
        }
      ]
    },
    {
      "cell_type": "markdown",
      "metadata": {
        "id": "y9ngG5IjVNPq",
        "colab_type": "text"
      },
      "source": [
        "Question 2.3"
      ]
    },
    {
      "cell_type": "code",
      "metadata": {
        "id": "XPHNhmYqVP_r",
        "colab_type": "code",
        "outputId": "cdaf5713-4edf-47d9-fcf5-cb682fa3e9d1",
        "colab": {
          "base_uri": "https://localhost:8080/",
          "height": 558
        }
      },
      "source": [
        "from sklearn.preprocessing import normalize\n",
        "lag = 8\n",
        "tol = 0.2\n",
        "\n",
        "spatial_data2 = spatial_data\n",
        "spatial_data2[\"NDvirus\"] = normalize(spatial_data2[\"Virus X\"])\n",
        "\n",
        "P1 = np.array(spatial_data2[['latitude', 'longitude', 'NDvirus']])\n",
        "P2 = np.array(spatial_data[['latitude', 'longitude', 'Virus X']])\n",
        "# P[:,2]\n",
        "\n",
        "pwdist = squareform(pdist(P1[:,:2]))\n",
        "pwdist2 = squareform(pdist(P2[:,:2]))\n",
        "\n",
        "i,j = np.where((pwdist >= lag - tol) & (pwdist < lag + tol)) \n",
        "x,y = np.where((pwdist2 >= lag - tol) & (pwdist2 < lag + tol)) \n",
        "\n",
        "indicies = np.c_[i,j][np.where(j > i)]\n",
        "indicies2 = np.c_[x,y][np.where(y > x)]\n",
        "# plt.figure()\n",
        "\n",
        "# print(P[indicies[:,1],0])\n",
        "\n",
        "plt.scatter(P1[indicies[:,0],2],P1[indicies[:,1],2])\n",
        "# plt.scatter(P2[indicies2[:,0],2],P2[indicies2[:,1],2])\n",
        "# plt.scatter(P2[indicies2[:,1],2],P2[indicies2[:,1],2])\n",
        "# print(P[indicies[:,0],1])\n",
        "\n",
        "plot_acf(spatial_data['latitude'])\n",
        "plot_acf(spatial_data['longitude'])\n",
        "# plot_acf(P[indicies[:,1],0])\n",
        "# plot_acf(P[indicies[:,1],1])\n",
        "# plot_acf(P[:,1])\n"
      ],
      "execution_count": 186,
      "outputs": [
        {
          "output_type": "error",
          "ename": "ValueError",
          "evalue": "ignored",
          "traceback": [
            "\u001b[0;31m---------------------------------------------------------------------------\u001b[0m",
            "\u001b[0;31mValueError\u001b[0m                                Traceback (most recent call last)",
            "\u001b[0;32m<ipython-input-186-8e8dab0f89f6>\u001b[0m in \u001b[0;36m<module>\u001b[0;34m()\u001b[0m\n\u001b[1;32m      4\u001b[0m \u001b[0;34m\u001b[0m\u001b[0m\n\u001b[1;32m      5\u001b[0m \u001b[0mspatial_data2\u001b[0m \u001b[0;34m=\u001b[0m \u001b[0mspatial_data\u001b[0m\u001b[0;34m\u001b[0m\u001b[0;34m\u001b[0m\u001b[0m\n\u001b[0;32m----> 6\u001b[0;31m \u001b[0mspatial_data2\u001b[0m\u001b[0;34m[\u001b[0m\u001b[0;34m\"NDvirus\"\u001b[0m\u001b[0;34m]\u001b[0m \u001b[0;34m=\u001b[0m \u001b[0mnormalize\u001b[0m\u001b[0;34m(\u001b[0m\u001b[0mspatial_data2\u001b[0m\u001b[0;34m[\u001b[0m\u001b[0;34m\"Virus X\"\u001b[0m\u001b[0;34m]\u001b[0m\u001b[0;34m)\u001b[0m\u001b[0;34m\u001b[0m\u001b[0;34m\u001b[0m\u001b[0m\n\u001b[0m\u001b[1;32m      7\u001b[0m \u001b[0;34m\u001b[0m\u001b[0m\n\u001b[1;32m      8\u001b[0m \u001b[0mP1\u001b[0m \u001b[0;34m=\u001b[0m \u001b[0mnp\u001b[0m\u001b[0;34m.\u001b[0m\u001b[0marray\u001b[0m\u001b[0;34m(\u001b[0m\u001b[0mspatial_data2\u001b[0m\u001b[0;34m[\u001b[0m\u001b[0;34m[\u001b[0m\u001b[0;34m'latitude'\u001b[0m\u001b[0;34m,\u001b[0m \u001b[0;34m'longitude'\u001b[0m\u001b[0;34m,\u001b[0m \u001b[0;34m'NDvirus'\u001b[0m\u001b[0;34m]\u001b[0m\u001b[0;34m]\u001b[0m\u001b[0;34m)\u001b[0m\u001b[0;34m\u001b[0m\u001b[0;34m\u001b[0m\u001b[0m\n",
            "\u001b[0;32m/usr/local/lib/python3.6/dist-packages/sklearn/preprocessing/_data.py\u001b[0m in \u001b[0;36mnormalize\u001b[0;34m(X, norm, axis, copy, return_norm)\u001b[0m\n\u001b[1;32m   1703\u001b[0m \u001b[0;34m\u001b[0m\u001b[0m\n\u001b[1;32m   1704\u001b[0m     X = check_array(X, sparse_format, copy=copy,\n\u001b[0;32m-> 1705\u001b[0;31m                     estimator='the normalize function', dtype=FLOAT_DTYPES)\n\u001b[0m\u001b[1;32m   1706\u001b[0m     \u001b[0;32mif\u001b[0m \u001b[0maxis\u001b[0m \u001b[0;34m==\u001b[0m \u001b[0;36m0\u001b[0m\u001b[0;34m:\u001b[0m\u001b[0;34m\u001b[0m\u001b[0;34m\u001b[0m\u001b[0m\n\u001b[1;32m   1707\u001b[0m         \u001b[0mX\u001b[0m \u001b[0;34m=\u001b[0m \u001b[0mX\u001b[0m\u001b[0;34m.\u001b[0m\u001b[0mT\u001b[0m\u001b[0;34m\u001b[0m\u001b[0;34m\u001b[0m\u001b[0m\n",
            "\u001b[0;32m/usr/local/lib/python3.6/dist-packages/sklearn/utils/validation.py\u001b[0m in \u001b[0;36mcheck_array\u001b[0;34m(array, accept_sparse, accept_large_sparse, dtype, order, copy, force_all_finite, ensure_2d, allow_nd, ensure_min_samples, ensure_min_features, warn_on_dtype, estimator)\u001b[0m\n\u001b[1;32m    554\u001b[0m                     \u001b[0;34m\"Reshape your data either using array.reshape(-1, 1) if \"\u001b[0m\u001b[0;34m\u001b[0m\u001b[0;34m\u001b[0m\u001b[0m\n\u001b[1;32m    555\u001b[0m                     \u001b[0;34m\"your data has a single feature or array.reshape(1, -1) \"\u001b[0m\u001b[0;34m\u001b[0m\u001b[0;34m\u001b[0m\u001b[0m\n\u001b[0;32m--> 556\u001b[0;31m                     \"if it contains a single sample.\".format(array))\n\u001b[0m\u001b[1;32m    557\u001b[0m \u001b[0;34m\u001b[0m\u001b[0m\n\u001b[1;32m    558\u001b[0m         \u001b[0;31m# in the future np.flexible dtypes will be handled like object dtypes\u001b[0m\u001b[0;34m\u001b[0m\u001b[0;34m\u001b[0m\u001b[0;34m\u001b[0m\u001b[0m\n",
            "\u001b[0;31mValueError\u001b[0m: Expected 2D array, got 1D array instead:\narray=[5.000e+00 5.060e+02 6.520e+02 1.000e+00 2.800e+01 9.479e+03 1.030e+02\n 4.900e+01 4.660e+03 9.000e+00 3.240e+02 1.680e+02 1.000e+00 6.000e+00\n 5.700e+01 1.000e+00 1.120e+02 2.600e+01 2.900e+01 2.000e+00 1.000e+00\n 2.190e+02 2.610e+02 6.740e+02 4.790e+02 2.900e+01 2.100e+01 1.000e+00\n 3.000e+00 3.000e+00 3.000e+01 1.075e+03 4.090e+02 1.000e+00 3.000e+00\n 1.000e+00 1.130e+02 5.600e+01 1.150e+02 1.000e+00 1.110e+02 9.410e+02\n 7.000e+00 6.800e+01 2.000e+01 1.400e+01 8.000e+00 2.075e+03 5.500e+01\n 7.000e+00 1.000e+00 1.100e+01 1.000e+00 8.500e+01 2.340e+02 3.100e+01\n 6.000e+00 1.730e+02].\nReshape your data either using array.reshape(-1, 1) if your data has a single feature or array.reshape(1, -1) if it contains a single sample."
          ]
        }
      ]
    },
    {
      "cell_type": "markdown",
      "metadata": {
        "id": "llgHR0O8VQKK",
        "colab_type": "text"
      },
      "source": [
        "Question 2.4"
      ]
    },
    {
      "cell_type": "code",
      "metadata": {
        "id": "KOpAAUcdVReR",
        "colab_type": "code",
        "colab": {
          "base_uri": "https://localhost:8080/",
          "height": 482
        },
        "outputId": "044b989f-c296-4862-c2de-d7ab0c22c7a7"
      },
      "source": [
        "cali = shp.Reader(county_shape)\n",
        "fig, ax = plt.subplots(figsize=(14, 6))\n",
        "# cali.shapeRecords()\n",
        "\n",
        "plt.figure()\n",
        "# for shape in cali.shapeRecords():\n",
        "#     x = [i[0] for i in shape.shape.points[:]]\n",
        "#     y = [i[1] for i in shape.shape.points[:]]\n",
        "#     plt.plot(x,y)\n",
        "\n",
        "\n",
        "geo_cali = gpd.read_file(county_shape)\n",
        "\n",
        "print(geo_cali.columns)\n",
        "\n",
        "# print(geo_cali[\"NAME\"])\n",
        "# for col in geo_cali.columns:\n",
        "#   print(col)\n",
        "#   print(geo_cali[col])\n",
        "\n",
        "# for col in geo_cali.columns.drop('geometry'):\n",
        "#   geo_cali.plot(column=col,categorical=True,legend=True,ax=ax, edgecolor='k')\n",
        "\n",
        "geo_cali['latitude'] = spatial_data['latitude']\n",
        "geo_cali['longitude'] = spatial_data['longitude']\n",
        "geo_cali['virus'] = spatial_data['Virus X']\n",
        "\n",
        "geo_cali.plot(column='latitude',cmap=\"summer\",legend=True,ax=ax, edgecolor='k')\n",
        "geo_cali.plot(column='longitude',cmap=\"summer\",legend=True,ax=ax, edgecolor='k')\n",
        "geo_cali.plot(column='virus',cmap=\"summer\",legend=True,ax=ax, edgecolor='k')\n",
        "# geo_cali.plot(column='NAME',categorical=True,legend=True,ax=ax, edgecolor='k')\n",
        "\n",
        "plt.show()"
      ],
      "execution_count": 37,
      "outputs": [
        {
          "output_type": "stream",
          "text": [
            "Index(['STATEFP', 'COUNTYFP', 'COUNTYNS', 'GEOID', 'NAME', 'NAMELSAD', 'LSAD',\n",
            "       'CLASSFP', 'MTFCC', 'CSAFP', 'CBSAFP', 'METDIVFP', 'FUNCSTAT', 'ALAND',\n",
            "       'AWATER', 'INTPTLAT', 'INTPTLON', 'geometry'],\n",
            "      dtype='object')\n"
          ],
          "name": "stdout"
        },
        {
          "output_type": "display_data",
          "data": {
            "image/png": "[encoded data removed]",
            "text/plain": [
              "<Figure size 1008x432 with 4 Axes>"
            ]
          },
          "metadata": {
            "tags": []
          }
        },
        {
          "output_type": "display_data",
          "data": {
            "text/plain": [
              "<Figure size 432x288 with 0 Axes>"
            ]
          },
          "metadata": {
            "tags": []
          }
        }
      ]
    },
    {
      "cell_type": "markdown",
      "metadata": {
        "id": "1vFnTNg6VRof",
        "colab_type": "text"
      },
      "source": [
        "Question 2.5"
      ]
    },
    {
      "cell_type": "code",
      "metadata": {
        "id": "9AO3rlRVVTCg",
        "colab_type": "code",
        "colab": {}
      },
      "source": [
        ""
      ],
      "execution_count": 0,
      "outputs": []
    },
    {
      "cell_type": "markdown",
      "metadata": {
        "id": "nt20j9CnVTZr",
        "colab_type": "text"
      },
      "source": [
        "Question 2.6"
      ]
    },
    {
      "cell_type": "code",
      "metadata": {
        "id": "VwEzFaFLVU3Z",
        "colab_type": "code",
        "colab": {}
      },
      "source": [
        ""
      ],
      "execution_count": 0,
      "outputs": []
    },
    {
      "cell_type": "markdown",
      "metadata": {
        "id": "wA2OAG5hVVNZ",
        "colab_type": "text"
      },
      "source": [
        "Question 2.7"
      ]
    },
    {
      "cell_type": "code",
      "metadata": {
        "id": "vDJYeQNJVW0O",
        "colab_type": "code",
        "colab": {}
      },
      "source": [
        ""
      ],
      "execution_count": 0,
      "outputs": []
    },
    {
      "cell_type": "markdown",
      "metadata": {
        "id": "NwG3fX9sVW-b",
        "colab_type": "text"
      },
      "source": [
        "Question 2.8"
      ]
    },
    {
      "cell_type": "code",
      "metadata": {
        "id": "_EIobbDDVYCI",
        "colab_type": "code",
        "colab": {}
      },
      "source": [
        ""
      ],
      "execution_count": 0,
      "outputs": []
    }
  ]
}