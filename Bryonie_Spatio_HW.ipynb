{
  "nbformat": 4,
  "nbformat_minor": 0,
  "metadata": {
    "colab": {
      "name": "Bryonie-Spatio-HW.ipynb",
      "provenance": [],
      "authorship_tag": "ABX9TyP8jvBQE65KwnA+8BuT5zQv",
      "include_colab_link": true
    },
    "kernelspec": {
      "name": "python3",
      "display_name": "Python 3"
    }
  },
  "cells": [
    {
      "cell_type": "markdown",
      "metadata": {
        "id": "view-in-github",
        "colab_type": "text"
      },
      "source": [
        "<a href=\"https://colab.research.google.com/github/bryonie/Spatio_HW/blob/master/Bryonie_Spatio_HW.ipynb\" target=\"_parent\"><img src=\"https://colab.research.google.com/assets/colab-badge.svg\" alt=\"Open In Colab\"/></a>"
      ]
    },
    {
      "cell_type": "markdown",
      "metadata": {
        "id": "ohllX2xIfpg0",
        "colab_type": "text"
      },
      "source": [
        "Setup Google Drive for pulling in files\n"
      ]
    },
    {
      "cell_type": "code",
      "metadata": {
        "id": "BHu5K4pdffke",
        "colab_type": "code",
        "colab": {}
      },
      "source": [
        "from pydrive.auth import GoogleAuth\n",
        "from pydrive.drive import GoogleDrive\n",
        "from google.colab import auth\n",
        "from oauth2client.client import GoogleCredentials\n",
        "auth.authenticate_user()\n",
        "gauth = GoogleAuth()\n",
        "gauth.credentials = GoogleCredentials.get_application_default()\n",
        "drive = GoogleDrive(gauth)\n",
        "downloaded = drive.CreateFile({'id':\"18DPGKwPOdUQMn2xsyZLI1B1VNGA0ALG1\"})   \n",
        "downloaded.GetContentFile('2046729_spatial.csv')\n",
        "downloaded = drive.CreateFile({'id':\"1WoYkI7EjCB-4b9_HmufNwyNbhjx_n7CO\"})   \n",
        "downloaded.GetContentFile('2046729_traj.csv') "
      ],
      "execution_count": 0,
      "outputs": []
    },
    {
      "cell_type": "markdown",
      "metadata": {
        "id": "Uw3uovNIfyMd",
        "colab_type": "text"
      },
      "source": [
        "Imports and reading files"
      ]
    },
    {
      "cell_type": "code",
      "metadata": {
        "id": "1TCofvTVf3xx",
        "colab_type": "code",
        "outputId": "8f0c88b0-ba58-4b42-f42a-38dcec22e9fe",
        "colab": {
          "base_uri": "https://localhost:8080/",
          "height": 195
        }
      },
      "source": [
        "import numpy as np\n",
        "import pandas as pd\n",
        "from matplotlib.dates import date2num, num2date\n",
        "import datetime as datetime\n",
        "import matplotlib .pyplot as plt\n",
        "from mpl_toolkits import mplot3d\n",
        "from pandas.plotting import autocorrelation_plot\n",
        "from statsmodels.tsa.stattools import acf\n",
        "from statsmodels.tsa.seasonal import seasonal_decompose\n",
        "from math import sqrt\n",
        "from statsmodels.tsa.ar_model import AR\n",
        "import statsmodels.api as sm\n",
        "from sklearn.metrics import mean_squared_error\n",
        "\n",
        "spatial_file = '2046729_spatial.csv'\n",
        "\n",
        "spatial_data = pd.read_csv(spatial_file)\n",
        "\n",
        "spatial_data.head()"
      ],
      "execution_count": 7,
      "outputs": [
        {
          "output_type": "execute_result",
          "data": {
            "text/html": [
              "<div>\n",
              "<style scoped>\n",
              "    .dataframe tbody tr th:only-of-type {\n",
              "        vertical-align: middle;\n",
              "    }\n",
              "\n",
              "    .dataframe tbody tr th {\n",
              "        vertical-align: top;\n",
              "    }\n",
              "\n",
              "    .dataframe thead th {\n",
              "        text-align: right;\n",
              "    }\n",
              "</style>\n",
              "<table border=\"1\" class=\"dataframe\">\n",
              "  <thead>\n",
              "    <tr style=\"text-align: right;\">\n",
              "      <th></th>\n",
              "      <th>Unnamed: 0</th>\n",
              "      <th>Unnamed: 0.1</th>\n",
              "      <th>name</th>\n",
              "      <th>capital</th>\n",
              "      <th>population</th>\n",
              "      <th>latitude</th>\n",
              "      <th>longitude</th>\n",
              "      <th>Virus X</th>\n",
              "    </tr>\n",
              "  </thead>\n",
              "  <tbody>\n",
              "    <tr>\n",
              "      <th>0</th>\n",
              "      <td>0</td>\n",
              "      <td>0</td>\n",
              "      <td>Sierra</td>\n",
              "      <td>Downieville</td>\n",
              "      <td>3380</td>\n",
              "      <td>36.985898</td>\n",
              "      <td>-119.232078</td>\n",
              "      <td>5</td>\n",
              "    </tr>\n",
              "    <tr>\n",
              "      <th>1</th>\n",
              "      <td>1</td>\n",
              "      <td>1</td>\n",
              "      <td>Sacramento</td>\n",
              "      <td>Sacramento</td>\n",
              "      <td>1424415</td>\n",
              "      <td>38.573659</td>\n",
              "      <td>-121.487147</td>\n",
              "      <td>506</td>\n",
              "    </tr>\n",
              "    <tr>\n",
              "      <th>2</th>\n",
              "      <td>2</td>\n",
              "      <td>2</td>\n",
              "      <td>Santa Barbara</td>\n",
              "      <td>Santa Barbara</td>\n",
              "      <td>428655</td>\n",
              "      <td>34.423403</td>\n",
              "      <td>-119.704416</td>\n",
              "      <td>652</td>\n",
              "    </tr>\n",
              "    <tr>\n",
              "      <th>3</th>\n",
              "      <td>3</td>\n",
              "      <td>3</td>\n",
              "      <td>Calaveras</td>\n",
              "      <td>San Andreas</td>\n",
              "      <td>46127</td>\n",
              "      <td>38.231085</td>\n",
              "      <td>-120.619990</td>\n",
              "      <td>1</td>\n",
              "    </tr>\n",
              "    <tr>\n",
              "      <th>4</th>\n",
              "      <td>4</td>\n",
              "      <td>4</td>\n",
              "      <td>Ventura</td>\n",
              "      <td>Ventura</td>\n",
              "      <td>831587</td>\n",
              "      <td>34.265900</td>\n",
              "      <td>-119.258366</td>\n",
              "      <td>28</td>\n",
              "    </tr>\n",
              "  </tbody>\n",
              "</table>\n",
              "</div>"
            ],
            "text/plain": [
              "   Unnamed: 0  Unnamed: 0.1           name  ...   latitude   longitude  Virus X\n",
              "0           0             0         Sierra  ...  36.985898 -119.232078        5\n",
              "1           1             1     Sacramento  ...  38.573659 -121.487147      506\n",
              "2           2             2  Santa Barbara  ...  34.423403 -119.704416      652\n",
              "3           3             3      Calaveras  ...  38.231085 -120.619990        1\n",
              "4           4             4        Ventura  ...  34.265900 -119.258366       28\n",
              "\n",
              "[5 rows x 8 columns]"
            ]
          },
          "metadata": {
            "tags": []
          },
          "execution_count": 7
        }
      ]
    },
    {
      "cell_type": "markdown",
      "metadata": {
        "id": "LUeZ7Twrf4T-",
        "colab_type": "text"
      },
      "source": [
        "Normalizing Data (with comments)"
      ]
    },
    {
      "cell_type": "code",
      "metadata": {
        "id": "6LzoDzOTf8Tc",
        "colab_type": "code",
        "outputId": "166044d8-ee9d-4768-f9d2-942e9a139e31",
        "colab": {
          "base_uri": "https://localhost:8080/",
          "height": 301
        }
      },
      "source": [
        "normalized_dict = {\n",
        "    \"\": ['count', 'mean', 'std', 'min', '25%', '50%', '75%', 'max'],\n",
        "    \"Unnamed: 0\": [],\n",
        "    \"Unnamed: 0.1\": [],\n",
        "    \"population\": [],\n",
        "    \"latitude\": [],\n",
        "    \"longitude\": [],\n",
        "    \"Virus X\": []\n",
        "}\n",
        "\n",
        "keys = list(normalized_dict.keys())\n",
        "print(keys)\n",
        "\n",
        "for key in keys:\n",
        "  if(key != ''):\n",
        "    normalized_dict[key].append(spatial_data[key].count())\n",
        "    normalized_dict[key].append(spatial_data[key].mean())\n",
        "    normalized_dict[key].append(spatial_data[key].std())\n",
        "    normalized_dict[key].append(spatial_data[key].min())\n",
        "    normalized_dict[key].append('25')\n",
        "    normalized_dict[key].append('50')\n",
        "    normalized_dict[key].append('75')\n",
        "    normalized_dict[key].append(spatial_data[key].max())\n",
        "\n",
        "# normalized_data = pd.DataFrame(normalized_dict)\n",
        "\n",
        "normalized_data = spatial_data.describe()\n",
        "\n",
        "normalized_data\n"
      ],
      "execution_count": 3,
      "outputs": [
        {
          "output_type": "stream",
          "text": [
            "['', 'Unnamed: 0', 'Unnamed: 0.1', 'population', 'latitude', 'longitude', 'Virus X']\n"
          ],
          "name": "stdout"
        },
        {
          "output_type": "execute_result",
          "data": {
            "text/html": [
              "<div>\n",
              "<style scoped>\n",
              "    .dataframe tbody tr th:only-of-type {\n",
              "        vertical-align: middle;\n",
              "    }\n",
              "\n",
              "    .dataframe tbody tr th {\n",
              "        vertical-align: top;\n",
              "    }\n",
              "\n",
              "    .dataframe thead th {\n",
              "        text-align: right;\n",
              "    }\n",
              "</style>\n",
              "<table border=\"1\" class=\"dataframe\">\n",
              "  <thead>\n",
              "    <tr style=\"text-align: right;\">\n",
              "      <th></th>\n",
              "      <th>Unnamed: 0</th>\n",
              "      <th>Unnamed: 0.1</th>\n",
              "      <th>population</th>\n",
              "      <th>latitude</th>\n",
              "      <th>longitude</th>\n",
              "      <th>Virus X</th>\n",
              "    </tr>\n",
              "  </thead>\n",
              "  <tbody>\n",
              "    <tr>\n",
              "      <th>count</th>\n",
              "      <td>58.000000</td>\n",
              "      <td>58.000000</td>\n",
              "      <td>5.800000e+01</td>\n",
              "      <td>58.000000</td>\n",
              "      <td>58.000000</td>\n",
              "      <td>58.000000</td>\n",
              "    </tr>\n",
              "    <tr>\n",
              "      <th>mean</th>\n",
              "      <td>28.500000</td>\n",
              "      <td>28.500000</td>\n",
              "      <td>6.072262e+05</td>\n",
              "      <td>37.612156</td>\n",
              "      <td>-120.734224</td>\n",
              "      <td>406.224138</td>\n",
              "    </tr>\n",
              "    <tr>\n",
              "      <th>std</th>\n",
              "      <td>16.886879</td>\n",
              "      <td>16.886879</td>\n",
              "      <td>1.446943e+06</td>\n",
              "      <td>2.258869</td>\n",
              "      <td>1.886696</td>\n",
              "      <td>1391.077457</td>\n",
              "    </tr>\n",
              "    <tr>\n",
              "      <th>min</th>\n",
              "      <td>0.000000</td>\n",
              "      <td>0.000000</td>\n",
              "      <td>1.222000e+03</td>\n",
              "      <td>32.718834</td>\n",
              "      <td>-123.965971</td>\n",
              "      <td>1.000000</td>\n",
              "    </tr>\n",
              "    <tr>\n",
              "      <th>25%</th>\n",
              "      <td>14.250000</td>\n",
              "      <td>14.250000</td>\n",
              "      <td>4.879500e+04</td>\n",
              "      <td>36.530736</td>\n",
              "      <td>-122.102211</td>\n",
              "      <td>5.250000</td>\n",
              "    </tr>\n",
              "    <tr>\n",
              "      <th>50%</th>\n",
              "      <td>28.500000</td>\n",
              "      <td>28.500000</td>\n",
              "      <td>1.809790e+05</td>\n",
              "      <td>37.814835</td>\n",
              "      <td>-120.905185</td>\n",
              "      <td>29.500000</td>\n",
              "    </tr>\n",
              "    <tr>\n",
              "      <th>75%</th>\n",
              "      <td>42.750000</td>\n",
              "      <td>42.750000</td>\n",
              "      <td>5.155448e+05</td>\n",
              "      <td>39.150608</td>\n",
              "      <td>-119.781361</td>\n",
              "      <td>171.750000</td>\n",
              "    </tr>\n",
              "    <tr>\n",
              "      <th>max</th>\n",
              "      <td>57.000000</td>\n",
              "      <td>57.000000</td>\n",
              "      <td>1.036385e+07</td>\n",
              "      <td>41.774326</td>\n",
              "      <td>-115.569962</td>\n",
              "      <td>9479.000000</td>\n",
              "    </tr>\n",
              "  </tbody>\n",
              "</table>\n",
              "</div>"
            ],
            "text/plain": [
              "       Unnamed: 0  Unnamed: 0.1  ...   longitude      Virus X\n",
              "count   58.000000     58.000000  ...   58.000000    58.000000\n",
              "mean    28.500000     28.500000  ... -120.734224   406.224138\n",
              "std     16.886879     16.886879  ...    1.886696  1391.077457\n",
              "min      0.000000      0.000000  ... -123.965971     1.000000\n",
              "25%     14.250000     14.250000  ... -122.102211     5.250000\n",
              "50%     28.500000     28.500000  ... -120.905185    29.500000\n",
              "75%     42.750000     42.750000  ... -119.781361   171.750000\n",
              "max     57.000000     57.000000  ... -115.569962  9479.000000\n",
              "\n",
              "[8 rows x 6 columns]"
            ]
          },
          "metadata": {
            "tags": []
          },
          "execution_count": 3
        }
      ]
    },
    {
      "cell_type": "markdown",
      "metadata": {
        "id": "GB9N_6BDf8yj",
        "colab_type": "text"
      },
      "source": [
        "Plot time!"
      ]
    },
    {
      "cell_type": "markdown",
      "metadata": {
        "id": "e3Xcq153VIPu",
        "colab_type": "text"
      },
      "source": [
        "Question 2.1"
      ]
    },
    {
      "cell_type": "code",
      "metadata": {
        "id": "UssJgEIBf9_m",
        "colab_type": "code",
        "outputId": "0a01fb41-3651-4d96-ad7b-4fd3a1e3defc",
        "colab": {
          "base_uri": "https://localhost:8080/",
          "height": 295
        }
      },
      "source": [
        "# Question 2.1\n",
        "plt.scatter(\n",
        "    spatial_data[\"latitude\"],\n",
        "    spatial_data[\"longitude\"],\n",
        "    c=spatial_data[\"Virus X\"]\n",
        ")\n",
        "plt.title('Latitube x Longitude (Virus X)')\n",
        "plt.xlabel('Latitude')\n",
        "plt.ylabel('Longitude')\n",
        "plt.show()"
      ],
      "execution_count": 4,
      "outputs": [
        {
          "output_type": "display_data",
          "data": {
            "image/png": "[encoded data removed]",
            "text/plain": [
              "<Figure size 432x288 with 1 Axes>"
            ]
          },
          "metadata": {
            "tags": []
          }
        }
      ]
    },
    {
      "cell_type": "markdown",
      "metadata": {
        "id": "7O0oeGNnVLM1",
        "colab_type": "text"
      },
      "source": [
        "Question 2.2"
      ]
    },
    {
      "cell_type": "code",
      "metadata": {
        "id": "0WOamPqEVM9o",
        "colab_type": "code",
        "colab": {
          "base_uri": "https://localhost:8080/",
          "height": 853
        },
        "outputId": "02f5b2c9-4f89-4f62-e298-2b1b68eec94d"
      },
      "source": [
        "fig, axs = plt.subplots(1, 2, sharey=True, tight_layout=True)\n",
        "\n",
        "def normalize(column):\n",
        "    upper = column.max()\n",
        "    lower = column.min()\n",
        "    y = (column - lower)/(upper-lower)\n",
        "    return y\n",
        "\n",
        "latitude = normalize(spatial_data[\"latitude\"])\n",
        "longitude = normalize(spatial_data[\"longitude\"])\n",
        "\n",
        "# fig.suptitle(\"Latitude vs Longitude\")\n",
        "axs[0].set_title(\"Latitude Normal Distribution\")\n",
        "axs[0].hist(latitude, label=\"Latitude\")\n",
        "axs[1].set_title(\"Longitude Normal Distribution\")\n",
        "axs[1].hist(longitude, label=\"Longitude\")\n",
        "\n",
        "\n",
        "sm.qqplot(latitude,fit=True,line='45')\n",
        "plt.title(\"Latitude Normal Distribution\")\n",
        "sm.qqplot(longitude,fit=True,line='45')\n",
        "plt.title(\"Longitude Normal Distribution\")\n",
        "plt.show()\n",
        "\n"
      ],
      "execution_count": 37,
      "outputs": [
        {
          "output_type": "display_data",
          "data": {
            "image/png": "[encoded data removed]",
            "text/plain": [
              "<Figure size 432x288 with 2 Axes>"
            ]
          },
          "metadata": {
            "tags": []
          }
        },
        {
          "output_type": "display_data",
          "data": {
            "image/png": "[encoded data removed]",
            "text/plain": [
              "<Figure size 432x288 with 1 Axes>"
            ]
          },
          "metadata": {
            "tags": []
          }
        },
        {
          "output_type": "display_data",
          "data": {
            "image/png": "[encoded data removed]",
            "text/plain": [
              "<Figure size 432x288 with 1 Axes>"
            ]
          },
          "metadata": {
            "tags": []
          }
        }
      ]
    },
    {
      "cell_type": "markdown",
      "metadata": {
        "id": "y9ngG5IjVNPq",
        "colab_type": "text"
      },
      "source": [
        "Question 2.3"
      ]
    },
    {
      "cell_type": "code",
      "metadata": {
        "id": "XPHNhmYqVP_r",
        "colab_type": "code",
        "colab": {
          "base_uri": "https://localhost:8080/",
          "height": 34
        },
        "outputId": "1c82810b-50b4-456c-dcad-92040dcc71e4"
      },
      "source": [
        ""
      ],
      "execution_count": 46,
      "outputs": [
        {
          "output_type": "execute_result",
          "data": {
            "text/plain": [
              "Int64Index([], dtype='int64')"
            ]
          },
          "metadata": {
            "tags": []
          },
          "execution_count": 46
        }
      ]
    },
    {
      "cell_type": "markdown",
      "metadata": {
        "id": "llgHR0O8VQKK",
        "colab_type": "text"
      },
      "source": [
        "Question 2.4"
      ]
    },
    {
      "cell_type": "code",
      "metadata": {
        "id": "KOpAAUcdVReR",
        "colab_type": "code",
        "colab": {}
      },
      "source": [
        ""
      ],
      "execution_count": 0,
      "outputs": []
    },
    {
      "cell_type": "markdown",
      "metadata": {
        "id": "1vFnTNg6VRof",
        "colab_type": "text"
      },
      "source": [
        "Question 2.5"
      ]
    },
    {
      "cell_type": "code",
      "metadata": {
        "id": "9AO3rlRVVTCg",
        "colab_type": "code",
        "colab": {}
      },
      "source": [
        ""
      ],
      "execution_count": 0,
      "outputs": []
    },
    {
      "cell_type": "markdown",
      "metadata": {
        "id": "nt20j9CnVTZr",
        "colab_type": "text"
      },
      "source": [
        "Question 2.6"
      ]
    },
    {
      "cell_type": "code",
      "metadata": {
        "id": "VwEzFaFLVU3Z",
        "colab_type": "code",
        "colab": {}
      },
      "source": [
        ""
      ],
      "execution_count": 0,
      "outputs": []
    },
    {
      "cell_type": "markdown",
      "metadata": {
        "id": "wA2OAG5hVVNZ",
        "colab_type": "text"
      },
      "source": [
        "Question 2.7"
      ]
    },
    {
      "cell_type": "code",
      "metadata": {
        "id": "vDJYeQNJVW0O",
        "colab_type": "code",
        "colab": {}
      },
      "source": [
        ""
      ],
      "execution_count": 0,
      "outputs": []
    },
    {
      "cell_type": "markdown",
      "metadata": {
        "id": "NwG3fX9sVW-b",
        "colab_type": "text"
      },
      "source": [
        "Question 2.8"
      ]
    },
    {
      "cell_type": "code",
      "metadata": {
        "id": "_EIobbDDVYCI",
        "colab_type": "code",
        "colab": {}
      },
      "source": [
        ""
      ],
      "execution_count": 0,
      "outputs": []
    }
  ]
}